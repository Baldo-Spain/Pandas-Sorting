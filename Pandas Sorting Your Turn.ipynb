{
 "cells": [
  {
   "cell_type": "markdown",
   "id": "a9bee5fd",
   "metadata": {},
   "source": [
    "<div style=\"background-color:rgba(200, 200, 460, 1); text-align:center; vertical-align: middle; padding:40px 0;\">\n",
    "<font size = \"40\"> Sorting </font>\n",
    "</div>\n"
   ]
  },
  {
   "cell_type": "markdown",
   "id": "900cbb33",
   "metadata": {},
   "source": [
    "### Importamos pandas"
   ]
  },
  {
   "cell_type": "code",
   "execution_count": 1,
   "id": "5619d542",
   "metadata": {},
   "outputs": [],
   "source": []
  },
  {
   "cell_type": "markdown",
   "id": "b6249311",
   "metadata": {},
   "source": [
    "### Importamos un DataFrame\n",
    "\n",
    "Utiliza \"titanic.csv\""
   ]
  },
  {
   "cell_type": "code",
   "execution_count": 3,
   "id": "a381dc5d",
   "metadata": {},
   "outputs": [],
   "source": []
  },
  {
   "cell_type": "markdown",
   "id": "d4ad809e",
   "metadata": {},
   "source": [
    "###  Exploramos el DataFrame en busca de la columna ideal para ordenar el DataFrame"
   ]
  },
  {
   "cell_type": "code",
   "execution_count": null,
   "id": "356f1701",
   "metadata": {},
   "outputs": [],
   "source": []
  },
  {
   "cell_type": "markdown",
   "id": "99228824",
   "metadata": {},
   "source": [
    "### Visualiza el DataFrame"
   ]
  },
  {
   "cell_type": "code",
   "execution_count": null,
   "id": "14fafe77",
   "metadata": {},
   "outputs": [],
   "source": []
  },
  {
   "cell_type": "markdown",
   "id": "9bbb63d5",
   "metadata": {},
   "source": [
    "### 1) Ordenar por 1 columna"
   ]
  },
  {
   "cell_type": "markdown",
   "id": "cdbb08c9",
   "metadata": {},
   "source": [
    "<img src=\"Sorting.png\">"
   ]
  },
  {
   "cell_type": "markdown",
   "id": "939fd6c6",
   "metadata": {},
   "source": [
    "<div style=\"background-color:rgba(200, 200, 460, 1); text-align:center; vertical-align: middle; padding:20px 0;\">\n",
    "Ordenamos el DataFrame por la columna \"Age\"\n",
    "</div>\n"
   ]
  },
  {
   "cell_type": "code",
   "execution_count": null,
   "id": "bbe8d1d1",
   "metadata": {},
   "outputs": [],
   "source": []
  },
  {
   "cell_type": "markdown",
   "id": "ca422c6b",
   "metadata": {},
   "source": [
    "### 2) Ordenar por una columna en sentido inverso.\n",
    "\n",
    "Por defecto el parametro <font color='green'>\"ascending = True\"</font> implica de menor a mayor cuando usamos numeros o de la \"a\" a la \"z\" si utilizamos strings.\n",
    "\n",
    "Al modificar dicho parametro: <font color='green'>\"ascending = False\"</font> El sentido numérico es del mayor al menor y en caso de utilizar strings de la \"z\" a la \"a\"\n",
    "\n",
    "<img src=\"Sorting2.png\">"
   ]
  },
  {
   "cell_type": "markdown",
   "id": "6c95bdad",
   "metadata": {},
   "source": [
    "<div style=\"background-color:rgba(200, 200, 460, 1); text-align:center; vertical-align: middle; padding:20px 0;\">\n",
    "Ordena los pasajeros por clase (Pclass) en sentido descendente.\n",
    "</div>\n"
   ]
  },
  {
   "cell_type": "code",
   "execution_count": null,
   "id": "23e28dc4",
   "metadata": {},
   "outputs": [],
   "source": []
  },
  {
   "cell_type": "markdown",
   "id": "a00ecd52",
   "metadata": {},
   "source": [
    "## 3) Ordenar por 2 o más columnas\n",
    "\n",
    "Utilizamos una lista de python con los nombres de las columnas por las que queremos ordenar. En nuestro caso [\"Apellidos\",\"Nombre\"]\n",
    "\n",
    "Con 3 columnas sería: [\"Grupo\",\"Apellidos\",\"Nombre\"]\n",
    "\n",
    "<img src=\"Sorting3.png\">"
   ]
  },
  {
   "cell_type": "markdown",
   "id": "46facd7f",
   "metadata": {},
   "source": [
    "<div style=\"background-color:rgba(200, 200, 460, 1); text-align:center; vertical-align: middle; padding:20px 0;\">\n",
    "Ordenar los pasajeros por Clase (Pclass), Sexo (Sex) y Sobrevivió (Survived)\n",
    "</div>\n"
   ]
  },
  {
   "cell_type": "code",
   "execution_count": null,
   "id": "9dc3300e",
   "metadata": {},
   "outputs": [],
   "source": []
  },
  {
   "cell_type": "markdown",
   "id": "7ce1b67d",
   "metadata": {},
   "source": [
    "## 4) Ordenar por dos o más columnas definiendo el sentido del orden\n",
    "\n",
    "Al igual que utilizamos una lista de python para seleccionar las columnas debemos utilizar otra lista para asignar el sentido a cada columna.\n",
    "<img src=\"Sorting4.png\">"
   ]
  },
  {
   "cell_type": "markdown",
   "id": "bf4d97be",
   "metadata": {},
   "source": [
    "<div style=\"background-color:rgba(200, 200, 460, 1); text-align:center; vertical-align: middle; padding:20px 0;\">Ordenar los pasajeros por sexo (Sex), edad (Age) y Clase (Pclass) en sentido descendente, ascendente, y descendente respectivamente.\n",
    "</div>\n"
   ]
  },
  {
   "cell_type": "code",
   "execution_count": null,
   "id": "2a88b13f",
   "metadata": {},
   "outputs": [],
   "source": []
  }
 ],
 "metadata": {
  "kernelspec": {
   "display_name": "Python 3 (ipykernel)",
   "language": "python",
   "name": "python3"
  },
  "language_info": {
   "codemirror_mode": {
    "name": "ipython",
    "version": 3
   },
   "file_extension": ".py",
   "mimetype": "text/x-python",
   "name": "python",
   "nbconvert_exporter": "python",
   "pygments_lexer": "ipython3",
   "version": "3.9.7"
  }
 },
 "nbformat": 4,
 "nbformat_minor": 5
}
